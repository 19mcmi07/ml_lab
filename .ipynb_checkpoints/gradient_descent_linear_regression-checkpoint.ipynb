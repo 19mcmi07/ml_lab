{
 "cells": [
  {
   "cell_type": "markdown",
   "metadata": {},
   "source": [
    "# Linear Regression using Gradient Descent"
   ]
  },
  {
   "cell_type": "markdown",
   "metadata": {},
   "source": [
    "## Import Statements"
   ]
  },
  {
   "cell_type": "code",
   "execution_count": 1,
   "metadata": {},
   "outputs": [],
   "source": [
    "import numpy as np\n",
    "import matplotlib.pyplot as plt\n",
    "from sklearn.datasets import make_regression"
   ]
  },
  {
   "cell_type": "markdown",
   "metadata": {},
   "source": [
    "Get the x and y vectors from the sklearn dataset 'make_regression'. We choose number of samples as 100 and number of features as 1. Also some noise is added so that it is easier to visualize."
   ]
  },
  {
   "cell_type": "code",
   "execution_count": 2,
   "metadata": {},
   "outputs": [],
   "source": [
    "x, y = make_regression(n_features=1, n_samples=100, noise=8)"
   ]
  },
  {
   "cell_type": "markdown",
   "metadata": {},
   "source": [
    "Now, a scatter plot is plotted of x and y."
   ]
  },
  {
   "cell_type": "code",
   "execution_count": 3,
   "metadata": {},
   "outputs": [
    {
     "data": {
      "text/plain": [
       "<matplotlib.collections.PathCollection at 0x1a78aaf9888>"
      ]
     },
     "execution_count": 3,
     "metadata": {},
     "output_type": "execute_result"
    },
    {
     "data": {
      "image/png": "[encoded data removed]",
      "text/plain": [
       "<Figure size 432x288 with 1 Axes>"
      ]
     },
     "metadata": {
      "needs_background": "light"
     },
     "output_type": "display_data"
    }
   ],
   "source": [
    "plt.scatter(x,y)"
   ]
  },
  {
   "cell_type": "markdown",
   "metadata": {},
   "source": [
    "## The Linear Regression Class"
   ]
  },
  {
   "cell_type": "code",
   "execution_count": 4,
   "metadata": {},
   "outputs": [],
   "source": [
    "class LinearRegression:\n",
    "    \n",
    "    def __init__(self, a=0.01):\n",
    "        self.alpha = a\n",
    "    \n",
    "    alpha = 0\n",
    "    err = []\n",
    "    \n",
    "    def online_gradient_descent(self, x, y, itr):\n",
    "        '''\n",
    "            This method updates the values of b0 and b1 after seeing each point.\n",
    "            The initial values of b0 and b1 are considered to be 0. \n",
    "            Now for the passed number of iterations, the following steps are repeated:\n",
    "                1. First calculate predicted values using the previous values\n",
    "                2. Calculate mean squared error.\n",
    "                3. update the values of b0 and b1 using the learning rate.\n",
    "            Now plot the errors.\n",
    "        '''\n",
    "        b0 = 0.0\n",
    "        b1 = 0.0\n",
    "        for j in range(itr):\n",
    "            pred = [0 for i in x]\n",
    "            error = [0 for i in x]\n",
    "            for i in range(len(x)):\n",
    "                pred[i] = b0 + b1*x[i]\n",
    "                error[i] = pred[i] - y[i]\n",
    "                b0 = b0 - self.alpha * error[i]\n",
    "                b1 = b1 - self.alpha * error[i] * x[i]\n",
    "                #print(b0, b1)\n",
    "            mean_err = np.array(error).mean()\n",
    "            self.err.append(np.square(mean_err))\n",
    "        \n",
    "        pred = [(b0+b1*i) for i in x]\n",
    "        plt.plot(x, pred, c='r')\n",
    "        plt.scatter(x, y, c='y')\n",
    "    \n",
    "    def offline_gradient_descent(self, x, y, itr):\n",
    "        '''\n",
    "            In this method we update the values of m and c after each iteration, i.e.\n",
    "            after seeing all the points.\n",
    "        '''\n",
    "        m = 0\n",
    "        c = 0\n",
    "        err1 = []\n",
    "        n = len(x)\n",
    "        for i in range(itr):\n",
    "            y_pred = m*x+c\n",
    "            d_m = (-2/n)*sum(x*(y-y_pred))\n",
    "            d_c = (-2/n)*sum(y-y_pred)\n",
    "            m = m - d_m * self.alpha\n",
    "            c = c - d_c * self.alpha\n",
    "            \n",
    "            errors = np.square(np.subtract(y,y_pred))\n",
    "            err1.append(errors.mean())\n",
    "        plt.plot(err1)\n",
    "        "
   ]
  },
  {
   "cell_type": "markdown",
   "metadata": {},
   "source": [
    "### Plotting the "
   ]
  },
  {
   "cell_type": "code",
   "execution_count": 5,
   "metadata": {},
   "outputs": [
    {
     "data": {
      "image/png": "[encoded data removed]",
      "text/plain": [
       "<Figure size 432x288 with 1 Axes>"
      ]
     },
     "metadata": {
      "needs_background": "light"
     },
     "output_type": "display_data"
    }
   ],
   "source": [
    "lr = LinearRegression()\n",
    "lr.online_gradient_descent(x,y,50)"
   ]
  },
  {
   "cell_type": "code",
   "execution_count": 6,
   "metadata": {},
   "outputs": [],
   "source": [
    "arr = np.array(lr.err)\n",
    "arr = arr.flatten()"
   ]
  },
  {
   "cell_type": "code",
   "execution_count": 9,
   "metadata": {},
   "outputs": [],
   "source": []
  },
  {
   "cell_type": "code",
   "execution_count": 8,
   "metadata": {},
   "outputs": [
    {
     "data": {
      "image/png": "[encoded data removed]",
      "text/plain": [
       "<Figure size 432x288 with 1 Axes>"
      ]
     },
     "metadata": {
      "needs_background": "light"
     },
     "output_type": "display_data"
    }
   ],
   "source": [
    "lr1 = LinearRegression(0.01)\n",
    "lr1.offline_gradient_descent(x,y,1000)"
   ]
  }
 ],
 "metadata": {
  "kernelspec": {
   "display_name": "Python 3",
   "language": "python",
   "name": "python3"
  },
  "language_info": {
   "codemirror_mode": {
    "name": "ipython",
    "version": 3
   },
   "file_extension": ".py",
   "mimetype": "text/x-python",
   "name": "python",
   "nbconvert_exporter": "python",
   "pygments_lexer": "ipython3",
   "version": "3.7.5"
  }
 },
 "nbformat": 4,
 "nbformat_minor": 4
}
